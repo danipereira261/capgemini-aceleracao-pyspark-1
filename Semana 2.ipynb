{
 "cells":[
  {
   "cell_type":"code",
   "source":[
    "#installing the required packages\n",
    "!pip install pyspark\n",
    "!pip install findspark"
   ],
   "execution_count":48,
   "outputs":[
    {
     "name":"stdout",
     "text":[
      "Requirement already satisfied: pyspark in \/opt\/python\/envs\/default\/lib\/python3.8\/site-packages (3.2.0)\r\n",
      "Requirement already satisfied: py4j==0.10.9.2 in \/opt\/python\/envs\/default\/lib\/python3.8\/site-packages (from pyspark) (0.10.9.2)\r\n",
      "\u001b[33mWARNING: You are using pip version 21.3.1; however, version 22.0.4 is available.\r\n",
      "You should consider upgrading via the '\/opt\/python\/envs\/default\/bin\/python -m pip install --upgrade pip' command.\u001b[0m\r\n",
      "Requirement already satisfied: findspark in \/opt\/python\/envs\/default\/lib\/python3.8\/site-packages (2.0.1)\r\n",
      "\u001b[33mWARNING: You are using pip version 21.3.1; however, version 22.0.4 is available.\r\n",
      "You should consider upgrading via the '\/opt\/python\/envs\/default\/bin\/python -m pip install --upgrade pip' command.\u001b[0m\r\n"
     ],
     "output_type":"stream"
    }
   ],
   "metadata":{
    "datalore":{
     "type":"CODE",
     "hide_input_from_viewers":false,
     "hide_output_from_viewers":false
    }
   }
  },
  {
   "cell_type":"code",
   "source":[
    "import pyspark\n",
    "import findspark\n",
    "findspark.init()"
   ],
   "execution_count":49,
   "outputs":[
    
   ],
   "metadata":{
    "datalore":{
     "type":"CODE",
     "hide_input_from_viewers":false,
     "hide_output_from_viewers":false
    }
   }
  },
  {
   "cell_type":"code",
   "source":[
    "import re\n",
    "from pyspark import SparkContext, SparkConf\n",
    "from pyspark.sql import SparkSession\n",
    "from pyspark.sql import functions as F\n",
    "from pyspark.sql.types import StructType, StructField, StringType, IntegerType, FloatType"
   ],
   "execution_count":50,
   "outputs":[
    
   ],
   "metadata":{
    "datalore":{
     "type":"CODE",
     "hide_input_from_viewers":false,
     "hide_output_from_viewers":false
    }
   }
  },
  {
   "cell_type":"code",
   "source":[
    "# Expressoes regulares comuns, pode-ser melhoradda\n",
    "REGEX_ALPHA    = r'[:aplha:]+'\n",
    "REGEX_INTEGER  = r'[:digit:]+'\n",
    "REGEX_FLOAT    = r'[:digit:]+\\.[:digit:]+'\n",
    "REGEX_ALPHANUM = r'[:alnum:]+'\n",
    "REGEX_EMPTY_STR= r'[:space:]+$'\n",
    "REGEX_SPECIAL  = r'[:punct:]+'\n",
    "REGEX_NNUMBER  = r'^N[1-9][0-9]{2,3}([ABCDEFGHJKLMNPRSTUVXWYZ]{1,2})'\n",
    "REGEX_NNUMBER_INVALID = r'(N0.*$)|(.*[IO].*)'\n",
    "#no inicio da linha pode ser [0-1]?[0-9])|(2[0-3]), no final ([0-5][0-9])$\n",
    "REGEX_TIME_FMT = r'^(([0-1]?[0-9])|(2[0-3]))([0-5][0-9])$'"
   ],
   "execution_count":51,
   "outputs":[
    
   ],
   "metadata":{
    "datalore":{
     "type":"CODE",
     "hide_input_from_viewers":false,
     "hide_output_from_viewers":false
    }
   }
  },
  {
   "cell_type":"code",
   "source":[
    "# Criar o contexto do spark\n",
    "sc = SparkContext\n",
    "\n",
    "# Instancia o criador de sessao do spark\n",
    "spark = (SparkSession.builder\n",
    "                     .master(\"local[7]\")\n",
    "                     .appName(\"semana 2\")\n",
    "                              )"
   ],
   "execution_count":52,
   "outputs":[
    
   ],
   "metadata":{
    "datalore":{
     "type":"CODE",
     "hide_input_from_viewers":false,
     "hide_output_from_viewers":false
    }
   }
  },
  {
   "cell_type":"code",
   "source":[
    "schema_airports = StructType([\n",
    "    StructField(\"faa\",  StringType(),  True),\n",
    "    StructField(\"name\", StringType(),  True),\n",
    "    StructField(\"lat\",  FloatType(),   True),\n",
    "    StructField(\"lon\",  FloatType(),   True),\n",
    "    StructField(\"alt\",  IntegerType(), True),\n",
    "    StructField(\"tz\",   IntegerType(), True),\n",
    "    StructField(\"dst\",  StringType(),  True)\n",
    "])\n",
    "\n",
    "schema_planes = StructType([\n",
    "    StructField(\"tailnum\",      StringType(),  True),\n",
    "    StructField(\"year\",         IntegerType(), True),\n",
    "    StructField(\"type\",         StringType(),  True),\n",
    "    StructField(\"manufacturer\", StringType(),  True),\n",
    "    StructField(\"model\",        StringType(),  True),\n",
    "    StructField(\"engines\",      IntegerType(), True),\n",
    "    StructField(\"seats\",        IntegerType(), True),\n",
    "    StructField(\"speed\",        IntegerType(), True),\n",
    "    StructField(\"engine\",       StringType(),  True)\n",
    "])\n",
    "\n",
    "schema_flights = StructType([\n",
    "    StructField(\"year\",      IntegerType(), True),\n",
    "    StructField(\"month\",     IntegerType(), True),\n",
    "    StructField(\"day\",       IntegerType(), True),\n",
    "    StructField(\"dep_time\",  StringType(),  True),\n",
    "    StructField(\"dep_delay\", IntegerType(), True),\n",
    "    StructField(\"arr_time\",  StringType(),  True),\n",
    "    StructField(\"arr_delay\", IntegerType(), True),\n",
    "    StructField(\"carrier\",   StringType(),  True),\n",
    "    StructField(\"tailnum\",   StringType(),  True),\n",
    "    StructField(\"flight\",    StringType(),  True),\n",
    "    StructField(\"origin\",    StringType(),  True),\n",
    "    StructField(\"dest\",      StringType(),  True),\n",
    "    StructField(\"air_time\",  IntegerType(), True),\n",
    "    StructField(\"distance\",  IntegerType(), True),\n",
    "    StructField(\"hour\",      IntegerType(), True),\n",
    "    StructField(\"minute\",    IntegerType(), True),\n",
    "])"
   ],
   "execution_count":53,
   "outputs":[
    
   ],
   "metadata":{
    "datalore":{
     "type":"CODE",
     "hide_input_from_viewers":false,
     "hide_output_from_viewers":false
    }
   }
  },
  {
   "cell_type":"code",
   "source":[
    "airport_df = (spark.getOrCreate().read\n",
    "               .format('csv')\n",
    "               .option(\"inferSchema\", \"false\") \n",
    "               .option('header', \"true\")\n",
    "               .schema(schema_airports)\n",
    "               .load('.\/airports.csv'))\n",
    "\n",
    "planes_df = (spark.getOrCreate().read\n",
    "             .format('csv')\n",
    "             .option('inferSchema', 'false')\n",
    "             .option('header', 'true')\n",
    "             .schema(schema_planes)\n",
    "             .load('.\/planes.csv'))\n",
    "\n",
    "flights_df = (spark.getOrCreate().read\n",
    "              .format('csv')\n",
    "              .option(\"inferSchema\", \"false\")\n",
    "              .option(\"header\", \"true\")\n",
    "              .load('.\/flights.csv'))\n",
    "\n",
    "airport_df.createOrReplaceTempView('airports_view')\n",
    "df_airport = airport_df\n",
    "\n",
    "df_airport.show(5)\n"
   ],
   "execution_count":54,
   "outputs":[
    {
     "name":"stdout",
     "text":[
      "+---+--------------------+---------+---------+----+---+---+\n",
      "|faa|                name|      lat|      lon| alt| tz|dst|\n",
      "+---+--------------------+---------+---------+----+---+---+\n",
      "|04G|   Lansdowne Airport|41.130474|-80.61958|1044| -5|  A|\n",
      "|06A|Moton Field Munic...| 32.46057|-85.68003| 264| -5|  A|\n",
      "|06C| Schaumburg Regional| 41.98934|-88.10124| 801| -6|  A|\n",
      "|06N|     Randall Airport| 41.43191|-74.39156| 523| -5|  A|\n",
      "|09J|Jekyll Island Air...|31.074472|-81.42778|  11| -4|  A|\n",
      "+---+--------------------+---------+---------+----+---+---+\n",
      "only showing top 5 rows\n",
      "\n"
     ],
     "output_type":"stream"
    }
   ],
   "metadata":{
    "datalore":{
     "type":"CODE",
     "hide_input_from_viewers":false,
     "hide_output_from_viewers":false
    }
   }
  },
  {
   "cell_type":"markdown",
   "source":[
    "# 1. Crie a coluna qa_faa e aponte inconsistências da coluna faa de acordo com as regras abaixo.\n",
    "\n",
    "\n",
    "- M : Indica que está com dado faltante. ✔️\n",
    "- F : Indica que não respeita o formato de 3-5 caracteres alfanuméricos. ✔️"
   ],
   "attachments":{
    
   },
   "metadata":{
    "datalore":{
     "type":"MD",
     "hide_input_from_viewers":false,
     "hide_output_from_viewers":false
    }
   }
  },
  {
   "cell_type":"code",
   "source":[
    "from pyspark.sql.functions import col, when, length\n",
    "import re\n",
    "\n",
    "airport_df = airport_df.withColumn(\"qa_faa\", \n",
    "             when((col(\"faa\") == \"\") |\n",
    "             (col(\"faa\").isNull()) , \"M\")\\\n",
    "            .when(\n",
    "                 (length(\"faa\").between(3 , 5)) &\n",
    "                 (col('faa').rlike(REGEX_ALPHA)) | (col('faa').rlike('^([^0-9]*)$')), \"F\"\n",
    "            )\\\n",
    "            .otherwise(col('faa'))\n",
    "          \n",
    "        )"
   ],
   "execution_count":55,
   "outputs":[
    
   ],
   "metadata":{
    "datalore":{
     "type":"CODE",
     "hide_input_from_viewers":false,
     "hide_output_from_viewers":false
    }
   }
  },
  {
   "cell_type":"markdown",
   "source":[
    "# 2. Criar uma coluna qa_name\n",
    "\n",
    "- M : Indica que está com dado faltante."
   ],
   "attachments":{
    
   },
   "metadata":{
    "datalore":{
     "type":"MD",
     "hide_input_from_viewers":false,
     "hide_output_from_viewers":false
    }
   }
  },
  {
   "cell_type":"code",
   "source":[
    "# M : Indica que está com dado faltante.\n",
    "\n",
    "airport_df = airport_df.withColumn(\"qa_name\", \n",
    "             when((col(\"name\") == \"\")     |\n",
    "                  (col(\"name\").isNull())  |\n",
    "                  (col('faa').rlike('\\t') |\n",
    "                  (col('faa').rlike(' +'))), \"M\")\\\n",
    "           .otherwise(col('name'))\n",
    "        )"
   ],
   "execution_count":56,
   "outputs":[
    
   ],
   "metadata":{
    "datalore":{
     "type":"CODE",
     "hide_input_from_viewers":false,
     "hide_output_from_viewers":false
    }
   }
  },
  {
   "cell_type":"markdown",
   "source":[
    "# 3. Criar uma coluna qa_lat\n",
    "\n",
    "- M : Indica que está com dado faltante. ✔️\n",
    "- I : Indica que o valor excede o intervalo [-180, 180]. ✔️\n",
    "- A : Indica que o valor é alfanumérico. ✔️"
   ],
   "attachments":{
    
   },
   "metadata":{
    "datalore":{
     "type":"MD",
     "hide_input_from_viewers":false,
     "hide_output_from_viewers":false
    }
   }
  },
  {
   "cell_type":"code",
   "source":[
    "airport_df = airport_df.withColumn(\"qa_lat\", \n",
    "             when((col(\"lat\") == \"\")      |\n",
    "                  (col(\"lat\").isNull())   |\n",
    "                  (col('lat').rlike('\\t') |\n",
    "                  (col('lat').rlike(' +'))), \"M\")\\\n",
    "             .when(\n",
    "                 (col(\"lat\") > '180.0') & \n",
    "                 (col(\"lat\") < '-180.0'), \"I\"\n",
    "            )\\\n",
    "            .when((col('lat').rlike('[a-zA-Z ]')), \"A\")\n",
    "            .otherwise(col('lat'))\n",
    "        )"
   ],
   "execution_count":57,
   "outputs":[
    
   ],
   "metadata":{
    "datalore":{
     "type":"CODE",
     "hide_input_from_viewers":false,
     "hide_output_from_viewers":false
    }
   }
  },
  {
   "cell_type":"markdown",
   "source":[
    "# 4. Criar uma coluna qa_lon\n",
    "\n",
    "- M : Indica que está com dado faltante. ✔️\n",
    "- I : Indica que o valor excede o intervalo [-180, 180]. ✔️\n",
    "- A : Indica que o valor é alfanumérico. ✔️"
   ],
   "attachments":{
    
   },
   "metadata":{
    "datalore":{
     "type":"MD",
     "hide_input_from_viewers":false,
     "hide_output_from_viewers":false
    }
   }
  },
  {
   "cell_type":"code",
   "source":[
    "airport_df = airport_df.withColumn(\"qa_lon\", \n",
    "             when((col(\"lon\") == \"\")      |\n",
    "                  (col(\"lon\").isNull())   |\n",
    "                  (col('lon').rlike('\\t') |\n",
    "                  (col('lon').rlike(' +'))), \"M\")\\\n",
    "             .when(\n",
    "                 (col(\"lon\") > '180.0') & \n",
    "                 (col(\"lon\") < '-180.0'), \"I\"\n",
    "            )\\\n",
    "            .when((col('lon').rlike('[a-zA-Z ]')), \"A\")\n",
    "            .otherwise(col('lon'))\n",
    "        )"
   ],
   "execution_count":58,
   "outputs":[
    
   ],
   "metadata":{
    "datalore":{
     "type":"CODE",
     "hide_input_from_viewers":false,
     "hide_output_from_viewers":false
    }
   }
  },
  {
   "cell_type":"markdown",
   "source":[
    "# 5. Criar uma coluna qa_alt\n",
    "\n",
    "- M : Indica que está com dado faltante. ✔️\n",
    "- I : Indica que o valor excede o intervalo [0, +∞). ✔️\n",
    "- A : Indica que o valor é alfanumérico. ✔️"
   ],
   "attachments":{
    
   },
   "metadata":{
    "datalore":{
     "type":"MD",
     "hide_input_from_viewers":false,
     "hide_output_from_viewers":false
    }
   }
  },
  {
   "cell_type":"code",
   "source":[
    "airport_df = airport_df.withColumn(\"qa_alt\", \n",
    "             when((col(\"alt\") == \"\")      |\n",
    "                  (col(\"alt\").isNull())   |\n",
    "                  (col('alt').rlike('\\t') |\n",
    "                  (col('alt').rlike(' +'))), \"M\")\\\n",
    "             .when((col(\"alt\") < '0'), \"I\")\\\n",
    "            .when( (col('alt').rlike('[a-zA-Z ]')), \"A\")\n",
    "            .otherwise(col('alt'))\n",
    "        )"
   ],
   "execution_count":59,
   "outputs":[
    
   ],
   "metadata":{
    "datalore":{
     "type":"CODE",
     "hide_input_from_viewers":false,
     "hide_output_from_viewers":false
    }
   }
  },
  {
   "cell_type":"markdown",
   "source":[
    "# 6. Criar uma coluna qa_tz\n",
    "\n",
    "- M : Indica que está com dado faltante. ✔️\n",
    "- I : Indica que o valor excede o intervalo [-11, +14]. ✔️\n",
    "- A : Indica que o valor é alfanumérico. ✔️"
   ],
   "attachments":{
    
   },
   "metadata":{
    "datalore":{
     "type":"MD",
     "hide_input_from_viewers":false,
     "hide_output_from_viewers":false
    }
   }
  },
  {
   "cell_type":"code",
   "source":[
    "airport_df = airport_df.withColumn(\"qa_tz\", \n",
    "             when((col(\"tz\") == \"\")      |\n",
    "                  (col(\"tz\").isNull())   |\n",
    "                  (col('tz').rlike('\\t') |\n",
    "                  (col('tz').rlike(' +')) ), \"M\")\\\n",
    "             .when((col(\"tz\") < '-11.0') &\n",
    "                   (col(\"tz\") > '14.0'), \"I\")\\\n",
    "            .when( (col('tz').rlike('[a-zA-Z ]')), \"A\")\n",
    "            .otherwise(col('tz'))\n",
    "        )"
   ],
   "execution_count":60,
   "outputs":[
    
   ],
   "metadata":{
    "datalore":{
     "type":"CODE",
     "hide_input_from_viewers":false,
     "hide_output_from_viewers":false
    }
   }
  },
  {
   "cell_type":"markdown",
   "source":[
    "# 7. Criar uma coluna qa_dst\n",
    "\n",
    "- M : Indica que está com dado faltante. ✔️\n",
    "- C : Indica que o valor não pertence a nenhuma das categorias esperadas → E, A, S, O, Z, N, U. ****\n",
    "- N : Indica que o valor é numérico. ✔️"
   ],
   "attachments":{
    
   },
   "metadata":{
    "datalore":{
     "type":"MD",
     "hide_input_from_viewers":false,
     "hide_output_from_viewers":false
    }
   }
  },
  {
   "cell_type":"code",
   "source":[
    "expected_categorys = [\"E\", \"A\", \"S\", \"O\", \"Z\", \"N\", \"U\"]\n",
    "\n",
    "airport_df = airport_df.withColumn(\"qa_dst\", \n",
    "            when((col(\"dst\") == \"\")      |\n",
    "                 (col(\"dst\").isNull())   |\n",
    "                 (col('dst').rlike('\\t') |\n",
    "                 (col('dst').rlike(' +')) ), \"M\")\\\n",
    "            .when( (col('dst').rlike('([0-9])') == True), \"N\")\\\n",
    "            .when((col(\"dst\").isin(expected_categorys) == False) , \"C\")\\\n",
    "            .otherwise(col('dst'))\n",
    "        )"
   ],
   "execution_count":61,
   "outputs":[
    
   ],
   "metadata":{
    "datalore":{
     "type":"CODE",
     "hide_input_from_viewers":false,
     "hide_output_from_viewers":false
    }
   }
  },
  {
   "cell_type":"markdown",
   "source":[
    "# Planes Dataset"
   ],
   "attachments":{
    
   },
   "metadata":{
    "datalore":{
     "type":"MD",
     "hide_input_from_viewers":false,
     "hide_output_from_viewers":false
    }
   }
  },
  {
   "cell_type":"code",
   "source":[
    "#lets describe our new file\n",
    "planes_file = \".\/datasets\/planes.csv\"\n",
    "\n",
    "#set our schema (that you can see on glossary)\n",
    "schema = StructType([\n",
    "    StructField(\"tailnum\",      StringType()),\n",
    "    StructField(\"year\",         IntegerType()),\n",
    "    StructField(\"type\",         StringType()),\n",
    "    StructField(\"manufacturer\", StringType()),\n",
    "    StructField(\"model\",   StringType()),\n",
    "    StructField(\"engines\", IntegerType()),\n",
    "    StructField(\"seats\",   IntegerType()),\n",
    "    StructField(\"speed\",   IntegerType()),\n",
    "    StructField(\"engine\",  StringType())\n",
    "])\n",
    "\n",
    "\n",
    "#lets take the rdd to work with too\n",
    "planes_rdd = planes_df.rdd\n",
    "\n",
    "#don't forget to create a view (important to work with spark sql)\n",
    "planes_df.createOrReplaceTempView('planes_view')"
   ],
   "execution_count":62,
   "outputs":[
    
   ],
   "metadata":{
    "datalore":{
     "type":"CODE",
     "hide_input_from_viewers":false,
     "hide_output_from_viewers":false
    }
   }
  },
  {
   "cell_type":"code",
   "source":[
    "planes_rdd.take(10)"
   ],
   "execution_count":63,
   "outputs":[
    {
     "data":{
      "text\/plain":[
       "[Row(tailnum='N102UW', year=1998, type='Fixed wing multi engine', manufacturer='AIRBUS INDUSTRIE', model='A320-214', engines=2, seats=182, speed=None, engine='Turbo-fan'),\n",
       " Row(tailnum='N103US', year=1999, type='Fixed wing multi engine', manufacturer='AIRBUS INDUSTRIE', model='A320-214', engines=2, seats=182, speed=None, engine='Turbo-fan'),\n",
       " Row(tailnum='N104UW', year=1999, type='Fixed wing multi engine', manufacturer='AIRBUS INDUSTRIE', model='A320-214', engines=2, seats=182, speed=None, engine='Turbo-fan'),\n",
       " Row(tailnum='N105UW', year=1999, type='Fixed wing multi engine', manufacturer='AIRBUS INDUSTRIE', model='A320-214', engines=2, seats=182, speed=None, engine='Turbo-fan'),\n",
       " Row(tailnum='N107US', year=1999, type='Fixed wing multi engine', manufacturer='AIRBUS INDUSTRIE', model='A320-214', engines=2, seats=182, speed=None, engine='Turbo-fan'),\n",
       " Row(tailnum='N108UW', year=1999, type='Fixed wing multi engine', manufacturer='AIRBUS INDUSTRIE', model='A320-214', engines=2, seats=182, speed=None, engine='Turbo-fan'),\n",
       " Row(tailnum='N109UW', year=1999, type='Fixed wing multi engine', manufacturer='AIRBUS INDUSTRIE', model='A320-214', engines=2, seats=182, speed=None, engine='Turbo-fan'),\n",
       " Row(tailnum='N110UW', year=1999, type='Fixed wing multi engine', manufacturer='AIRBUS INDUSTRIE', model='A320-214', engines=2, seats=182, speed=None, engine='Turbo-fan'),\n",
       " Row(tailnum='N111US', year=1999, type='Fixed wing multi engine', manufacturer='AIRBUS INDUSTRIE', model='A320-214', engines=2, seats=182, speed=None, engine='Turbo-fan'),\n",
       " Row(tailnum='N11206', year=2000, type='Fixed wing multi engine', manufacturer='BOEING', model='737-824', engines=2, seats=149, speed=None, engine='Turbo-fan')]"
      ]
     },
     "metadata":{
      
     },
     "output_type":"display_data"
    }
   ],
   "metadata":{
    "datalore":{
     "type":"CODE",
     "hide_input_from_viewers":false,
     "hide_output_from_viewers":false
    }
   }
  },
  {
   "cell_type":"code",
   "source":[
    "planes_df.show(10)"
   ],
   "execution_count":64,
   "outputs":[
    {
     "name":"stdout",
     "text":[
      "+-------+----+--------------------+----------------+--------+-------+-----+-----+---------+\n",
      "|tailnum|year|                type|    manufacturer|   model|engines|seats|speed|   engine|\n",
      "+-------+----+--------------------+----------------+--------+-------+-----+-----+---------+\n",
      "| N102UW|1998|Fixed wing multi ...|AIRBUS INDUSTRIE|A320-214|      2|  182| null|Turbo-fan|\n",
      "| N103US|1999|Fixed wing multi ...|AIRBUS INDUSTRIE|A320-214|      2|  182| null|Turbo-fan|\n",
      "| N104UW|1999|Fixed wing multi ...|AIRBUS INDUSTRIE|A320-214|      2|  182| null|Turbo-fan|\n",
      "| N105UW|1999|Fixed wing multi ...|AIRBUS INDUSTRIE|A320-214|      2|  182| null|Turbo-fan|\n",
      "| N107US|1999|Fixed wing multi ...|AIRBUS INDUSTRIE|A320-214|      2|  182| null|Turbo-fan|\n",
      "| N108UW|1999|Fixed wing multi ...|AIRBUS INDUSTRIE|A320-214|      2|  182| null|Turbo-fan|\n",
      "| N109UW|1999|Fixed wing multi ...|AIRBUS INDUSTRIE|A320-214|      2|  182| null|Turbo-fan|\n",
      "| N110UW|1999|Fixed wing multi ...|AIRBUS INDUSTRIE|A320-214|      2|  182| null|Turbo-fan|\n",
      "| N111US|1999|Fixed wing multi ...|AIRBUS INDUSTRIE|A320-214|      2|  182| null|Turbo-fan|\n",
      "| N11206|2000|Fixed wing multi ...|          BOEING| 737-824|      2|  149| null|Turbo-fan|\n",
      "+-------+----+--------------------+----------------+--------+-------+-----+-----+---------+\n",
      "only showing top 10 rows\n",
      "\n"
     ],
     "output_type":"stream"
    }
   ],
   "metadata":{
    "datalore":{
     "type":"CODE",
     "hide_input_from_viewers":false,
     "hide_output_from_viewers":false
    }
   }
  },
  {
   "cell_type":"markdown",
   "source":[
    "# 1. Criar uma coluna qa_tailnum\n",
    "\n",
    "- M : Indica que está com dado faltante.\n",
    "- S : Indica que não tem exatamente 5 caracteres.\n",
    "- F : Indica que não respeita o formato esperado (ex.N1234Z ou N123AZ)\n",
    "- FN : Indica que não inicia com a letra \"N\"\n",
    "- FE : Indica que contém caracteres inválidos (\"I\", \"O\", ou 0 como primeiro dígito)."
   ],
   "attachments":{
    
   },
   "metadata":{
    "datalore":{
     "type":"MD",
     "hide_input_from_viewers":false,
     "hide_output_from_viewers":false
    }
   }
  },
  {
   "cell_type":"code",
   "source":[
    "planes_df = planes_df.withColumn(\"qa_tailnum\", \n",
    "                when((col(\"tailnum\") == \"\")      |\n",
    "                    (col(\"tailnum\").isNull())   |\n",
    "                    (col('tailnum').rlike('\\t') |\n",
    "                    (col('tailnum').rlike(' +'))), \"M\")\\\n",
    "                .when((length(\"tailnum\") != 5), \"S\")\\\n",
    "                .when(\n",
    "                    (col('tailnum').substr(1, 1) != 'N')   &\n",
    "                    (col('tailnum').substr(-1, -1) != 'Z') & \n",
    "                    (col('tailnum').substr(2,4).rlike('^([^0-9]*)$')), \"F\")\\\n",
    "                .when((col(\"tailnum\").substr(1,1) == \"I\")  |\n",
    "                    (col(\"tailnum\").substr(1,1) == \"O\") |\n",
    "                    (col(\"tailnum\").substr(1,1) == \"0\"), \"FE\")\\\n",
    "                .when((col(\"tailnum\").substr(1,1) != \"N\"),  \"FN\")\\\n",
    "                .otherwise(col('tailnum'))\n",
    "            )\n",
    "\n",
    "planes_df.show()"
   ],
   "execution_count":65,
   "outputs":[
    {
     "name":"stdout",
     "text":[
      "+-------+----+--------------------+----------------+--------+-------+-----+-----+---------+----------+\n",
      "|tailnum|year|                type|    manufacturer|   model|engines|seats|speed|   engine|qa_tailnum|\n",
      "+-------+----+--------------------+----------------+--------+-------+-----+-----+---------+----------+\n",
      "| N102UW|1998|Fixed wing multi ...|AIRBUS INDUSTRIE|A320-214|      2|  182| null|Turbo-fan|         S|\n",
      "| N103US|1999|Fixed wing multi ...|AIRBUS INDUSTRIE|A320-214|      2|  182| null|Turbo-fan|         S|\n",
      "| N104UW|1999|Fixed wing multi ...|AIRBUS INDUSTRIE|A320-214|      2|  182| null|Turbo-fan|         S|\n",
      "| N105UW|1999|Fixed wing multi ...|AIRBUS INDUSTRIE|A320-214|      2|  182| null|Turbo-fan|         S|\n",
      "| N107US|1999|Fixed wing multi ...|AIRBUS INDUSTRIE|A320-214|      2|  182| null|Turbo-fan|         S|\n",
      "| N108UW|1999|Fixed wing multi ...|AIRBUS INDUSTRIE|A320-214|      2|  182| null|Turbo-fan|         S|\n",
      "| N109UW|1999|Fixed wing multi ...|AIRBUS INDUSTRIE|A320-214|      2|  182| null|Turbo-fan|         S|\n",
      "| N110UW|1999|Fixed wing multi ...|AIRBUS INDUSTRIE|A320-214|      2|  182| null|Turbo-fan|         S|\n",
      "| N111US|1999|Fixed wing multi ...|AIRBUS INDUSTRIE|A320-214|      2|  182| null|Turbo-fan|         S|\n",
      "| N11206|2000|Fixed wing multi ...|          BOEING| 737-824|      2|  149| null|Turbo-fan|         S|\n",
      "| N112US|1999|Fixed wing multi ...|AIRBUS INDUSTRIE|A320-214|      2|  182| null|Turbo-fan|         S|\n",
      "| N113UW|1999|Fixed wing multi ...|AIRBUS INDUSTRIE|A320-214|      2|  182| null|Turbo-fan|         S|\n",
      "| N114UW|1999|Fixed wing multi ...|AIRBUS INDUSTRIE|A320-214|      2|  182| null|Turbo-fan|         S|\n",
      "| N117UW|2000|Fixed wing multi ...|AIRBUS INDUSTRIE|A320-214|      2|  182| null|Turbo-fan|         S|\n",
      "| N118US|2000|Fixed wing multi ...|AIRBUS INDUSTRIE|A320-214|      2|  182| null|Turbo-fan|         S|\n",
      "| N119US|2000|Fixed wing multi ...|AIRBUS INDUSTRIE|A320-214|      2|  182| null|Turbo-fan|         S|\n",
      "| N1200K|1998|Fixed wing multi ...|          BOEING| 767-332|      2|  330| null|Turbo-fan|         S|\n",
      "| N1201P|1998|Fixed wing multi ...|          BOEING| 767-332|      2|  330| null|Turbo-fan|         S|\n",
      "| N12114|1995|Fixed wing multi ...|          BOEING| 757-224|      2|  178| null|Turbo-jet|         S|\n",
      "| N121DE|1987|Fixed wing multi ...|          BOEING| 767-332|      2|  330| null|Turbo-fan|         S|\n",
      "+-------+----+--------------------+----------------+--------+-------+-----+-----+---------+----------+\n",
      "only showing top 20 rows\n",
      "\n"
     ],
     "output_type":"stream"
    }
   ],
   "metadata":{
    "datalore":{
     "type":"CODE",
     "hide_input_from_viewers":false,
     "hide_output_from_viewers":false
    }
   }
  },
  {
   "cell_type":"markdown",
   "source":[
    "# 2. Criar uma coluna qa_year\n",
    "\n",
    "- M : Indica que está com dado faltante.\n",
    "- I : Indica que o valor excede o intervalo [1950, +∞)."
   ],
   "attachments":{
    
   },
   "metadata":{
    "datalore":{
     "type":"MD",
     "hide_input_from_viewers":false,
     "hide_output_from_viewers":false
    }
   }
  },
  {
   "cell_type":"code",
   "source":[
    "planes_df = planes_df.withColumn(\"qa_year\", \n",
    "                when((col(\"year\") == \"\")      |\n",
    "                    (col(\"year\").isNull())   |\n",
    "                    (col('year').rlike('\\t') |\n",
    "                    (col('year').rlike(' +'))), \"M\")\\\n",
    "                .when((col(\"year\") < 1950), \"I\")\\\n",
    "                .otherwise(col('year'))\n",
    "            )\n",
    "planes_df.select('qa_year').show()"
   ],
   "execution_count":66,
   "outputs":[
    {
     "name":"stdout",
     "text":[
      "+-------+\n",
      "|qa_year|\n",
      "+-------+\n",
      "|   1998|\n",
      "|   1999|\n",
      "|   1999|\n",
      "|   1999|\n",
      "|   1999|\n",
      "|   1999|\n",
      "|   1999|\n",
      "|   1999|\n",
      "|   1999|\n",
      "|   2000|\n",
      "|   1999|\n",
      "|   1999|\n",
      "|   1999|\n",
      "|   2000|\n",
      "|   2000|\n",
      "|   2000|\n",
      "|   1998|\n",
      "|   1998|\n",
      "|   1995|\n",
      "|   1987|\n",
      "+-------+\n",
      "only showing top 20 rows\n",
      "\n"
     ],
     "output_type":"stream"
    }
   ],
   "metadata":{
    "datalore":{
     "type":"CODE",
     "hide_input_from_viewers":false,
     "hide_output_from_viewers":false
    }
   }
  },
  {
   "cell_type":"markdown",
   "source":[
    "# 3. Criar uma coluna qa_type\n",
    "\n",
    "- M : Indica que está com dado faltante.\n",
    "- C : Indica que o valor não pertence a nenhuma categoria esperada:\n",
    "-    Fixed wing multi engine\n",
    "-    Fixed wing single engine\n",
    "-    Rotorcraft"
   ],
   "attachments":{
    
   },
   "metadata":{
    "datalore":{
     "type":"MD",
     "hide_input_from_viewers":false,
     "hide_output_from_viewers":false
    }
   }
  },
  {
   "cell_type":"code",
   "source":[
    "type_categories = ['Fixed wing multi engine', 'fixed wing single engine', 'Rotorcraft']\n",
    "\n",
    "planes_df = planes_df.withColumn(\"qa_type\", \n",
    "                when((col(\"type\") == \"\")      |\n",
    "                    (col(\"type\").isNull())   |\n",
    "                    (col('type').rlike('\\t') |\n",
    "                    (col('type').rlike(' +'))), \"M\")\\\n",
    "                .when((col(\"type\").isin(type_categories) == False),  \"C\")\\\n",
    "                .otherwise(col('type'))\n",
    "            )\n",
    "\n",
    "planes_df.select('qa_type').show()"
   ],
   "execution_count":67,
   "outputs":[
    {
     "name":"stdout",
     "text":[
      "+-------+\n",
      "|qa_type|\n",
      "+-------+\n",
      "|      M|\n",
      "|      M|\n",
      "|      M|\n",
      "|      M|\n",
      "|      M|\n",
      "|      M|\n",
      "|      M|\n",
      "|      M|\n",
      "|      M|\n",
      "|      M|\n",
      "|      M|\n",
      "|      M|\n",
      "|      M|\n",
      "|      M|\n",
      "|      M|\n",
      "|      M|\n",
      "|      M|\n",
      "|      M|\n",
      "|      M|\n",
      "|      M|\n",
      "+-------+\n",
      "only showing top 20 rows\n",
      "\n"
     ],
     "output_type":"stream"
    }
   ],
   "metadata":{
    "datalore":{
     "type":"CODE",
     "hide_input_from_viewers":false,
     "hide_output_from_viewers":false
    }
   }
  },
  {
   "cell_type":"markdown",
   "source":[
    "# 4. Criar uma coluna qa_manufacturer"
   ],
   "attachments":{
    
   },
   "metadata":{
    "datalore":{
     "type":"MD",
     "hide_input_from_viewers":false,
     "hide_output_from_viewers":false
    }
   }
  },
  {
   "cell_type":"markdown",
   "source":[
    "- M : Indica que está com dado faltante.\n",
    "- C : Indica que o valor não pertence a nenhuma categoria esperada:\n",
    "AIRBUS\n",
    "BOEING\n",
    "BOMBARDIER\n",
    "CESSNA\n",
    "EMBRAER\n",
    "SIKORSKY\n",
    "CANADAIR\n",
    "PIPER\n",
    "MCDONNELL DOUGLAS\n",
    "CIRRUS\n",
    "BELL\n",
    "KILDALL GARY\n",
    "LAMBERT RICHARD\n",
    "BARKER JACK\n",
    "ROBINSON HELICOPTER\n",
    "GULFSTREAM\n",
    "MARZ BARRY"
   ],
   "attachments":{
    
   },
   "metadata":{
    "datalore":{
     "type":"MD",
     "hide_input_from_viewers":false,
     "hide_output_from_viewers":false
    }
   }
  },
  {
   "cell_type":"code",
   "source":[
    "manufacture_categories = [\"AIRBUS\", \"BOEING\",\"BOMBARDIER\",\"CESSNA\",\"EMBRAER\",\"SIKORSKY\",\"CANADAIR\",\n",
    "                          \"PIPER\",\"MCDONNELL DOUGLAS\",\"CIRRUS\",\"BELL\",\"KILDALL GARY\",\"LAMBERT RICHARD\",\n",
    "                          \"BARKER JACK\",\"ROBINSON HELICOPTER\",\"GULFSTREAM\",\"MARZ BARRY\"]\n",
    "\n",
    "#using a udf\n",
    "from pyspark.sql.functions import udf\n",
    "from pyspark.sql.types import StructType\n",
    "\n",
    "\n",
    "# dica do eugênio -> df.map(lambda x: any([x.contains(f\"%{y}%\") for y in MANUFACTURERS]))\n",
    "\n",
    "@udf\n",
    "def qa_manufacturer(el):\n",
    "    if(any([el.__contains__(f\"{y}\") for y in manufacture_categories])):\n",
    "        return el\n",
    "    else:\n",
    "        return \"M\"\n",
    "\n",
    "planes_df.select(\"manufacturer\", qa_manufacturer('manufacturer')).show()\n",
    "\n",
    "#lets go back to our df\n",
    "\n",
    "planes_df = planes_df.withColumn(\"qa_manufacturer\", \n",
    "                when((col(\"manufacturer\") == \"\")      |\n",
    "                    (col(\"manufacturer\").isNull()), \"M\")\\\n",
    "                .when(\n",
    "                    (col(\"manufacturer\").contains(\"AIRBUS%\")) |\n",
    "                    (col(\"manufacturer\").contains(\"BOEING%\")) |\n",
    "                    (col(\"manufacturer\").contains(\"BOMBARDIER%\")) |\n",
    "                    (col(\"manufacturer\").contains(\"CESSNA%\"))   |\n",
    "                    (col(\"manufacturer\").contains(\"EMBRAER%\"))  |\n",
    "                    (col(\"manufacturer\").contains(\"SIKORSKY%\")) |\n",
    "                    (col(\"manufacturer\").contains(\"CANADAIR%\")) |\n",
    "                    (col(\"manufacturer\").contains(\"PIPER%\"))    |\n",
    "                    (col(\"manufacturer\").contains(\"MCDONNELL DOUGLAS%\")) |\n",
    "                    (col(\"manufacturer\").contains(\"CIRRUS%\")) |\n",
    "                    (col(\"manufacturer\").contains(\"BELL%\"))   |\n",
    "                    (col(\"manufacturer\").contains(\"KILDALL GARY%\"))    |\n",
    "                    (col(\"manufacturer\").contains(\"LAMBERT RICHARD%\")) |\n",
    "                    (col(\"manufacturer\").contains(\"BARKER JACK%\"))     |\n",
    "                    (col(\"manufacturer\").contains(\"ROBINSON HELICOPTER%\")) |\n",
    "                    (col(\"manufacturer\").contains(\"GULFSTREAM%\")) |\n",
    "                    (col(\"manufacturer\").contains(\"MARZ BARRY%\")), \"C\"\n",
    "                    )\\\n",
    "                .otherwise(col('manufacturer'))\n",
    "            )\n",
    "planes_df.select('qa_manufacturer').show()"
   ],
   "execution_count":68,
   "outputs":[
    {
     "name":"stdout",
     "text":[
      "+----------------+-----------------------------+\n",
      "|    manufacturer|qa_manufacturer(manufacturer)|\n",
      "+----------------+-----------------------------+\n",
      "|AIRBUS INDUSTRIE|             AIRBUS INDUSTRIE|\n",
      "|AIRBUS INDUSTRIE|             AIRBUS INDUSTRIE|\n",
      "|AIRBUS INDUSTRIE|             AIRBUS INDUSTRIE|\n",
      "|AIRBUS INDUSTRIE|             AIRBUS INDUSTRIE|\n",
      "|AIRBUS INDUSTRIE|             AIRBUS INDUSTRIE|\n",
      "|AIRBUS INDUSTRIE|             AIRBUS INDUSTRIE|\n",
      "|AIRBUS INDUSTRIE|             AIRBUS INDUSTRIE|\n",
      "|AIRBUS INDUSTRIE|             AIRBUS INDUSTRIE|\n",
      "|AIRBUS INDUSTRIE|             AIRBUS INDUSTRIE|\n",
      "|          BOEING|                       BOEING|\n",
      "|AIRBUS INDUSTRIE|             AIRBUS INDUSTRIE|\n",
      "|AIRBUS INDUSTRIE|             AIRBUS INDUSTRIE|\n",
      "|AIRBUS INDUSTRIE|             AIRBUS INDUSTRIE|\n",
      "|AIRBUS INDUSTRIE|             AIRBUS INDUSTRIE|\n",
      "|AIRBUS INDUSTRIE|             AIRBUS INDUSTRIE|\n",
      "|AIRBUS INDUSTRIE|             AIRBUS INDUSTRIE|\n",
      "|          BOEING|                       BOEING|\n",
      "|          BOEING|                       BOEING|\n",
      "|          BOEING|                       BOEING|\n",
      "|          BOEING|                       BOEING|\n",
      "+----------------+-----------------------------+\n",
      "only showing top 20 rows\n",
      "\n",
      "+----------------+\n",
      "| qa_manufacturer|\n",
      "+----------------+\n",
      "|AIRBUS INDUSTRIE|\n",
      "|AIRBUS INDUSTRIE|\n",
      "|AIRBUS INDUSTRIE|\n",
      "|AIRBUS INDUSTRIE|\n",
      "|AIRBUS INDUSTRIE|\n",
      "|AIRBUS INDUSTRIE|\n",
      "|AIRBUS INDUSTRIE|\n",
      "|AIRBUS INDUSTRIE|\n",
      "|AIRBUS INDUSTRIE|\n",
      "|          BOEING|\n",
      "|AIRBUS INDUSTRIE|\n",
      "|AIRBUS INDUSTRIE|\n",
      "|AIRBUS INDUSTRIE|\n",
      "|AIRBUS INDUSTRIE|\n",
      "|AIRBUS INDUSTRIE|\n",
      "|AIRBUS INDUSTRIE|\n",
      "|          BOEING|\n",
      "|          BOEING|\n",
      "|          BOEING|\n",
      "|          BOEING|\n",
      "+----------------+\n",
      "only showing top 20 rows\n",
      "\n"
     ],
     "output_type":"stream"
    }
   ],
   "metadata":{
    "datalore":{
     "type":"CODE",
     "hide_input_from_viewers":false,
     "hide_output_from_viewers":false
    }
   }
  },
  {
   "cell_type":"markdown",
   "source":[
    "# 5. Criar uma coluna qa_model"
   ],
   "attachments":{
    
   },
   "metadata":{
    "datalore":{
     "type":"MD",
     "hide_input_from_viewers":false,
     "hide_output_from_viewers":false
    }
   }
  },
  {
   "cell_type":"code",
   "source":[
    "\"\"\"\n",
    "M : Indica que está com dado faltante.\n",
    "F : Indica que não respeita o formato esperado:\n",
    "Modelos AIRBUS devem começar com \"A\"\n",
    "Modelos BOEING devem começar com \"7\"\n",
    "Modelos BOMBARDIER e CANADAIR devem começar com \"CL\"\n",
    "Modelos MCDONNELL DOUGLAS devem começar com \"MD\" ou \"DC\"\n",
    "\"\"\"\n",
    "\n",
    "planes_df = planes_df.withColumn(\"qa_model\", \n",
    "                when((col(\"model\") == \"\")     |\n",
    "                    (col(\"model\").isNull())   |\n",
    "                    (col('model').rlike('\\t') |\n",
    "                    (col('model').rlike(' +'))), \"M\")\\\n",
    "                .when(\n",
    "                    (col('manufacturer') == \"AIRBUS\") &\n",
    "                    (col('model').substr(1, 1) != 'A'), \"F\")\\\n",
    "                .when(\n",
    "                    (col('manufacturer') == \"BOEING\") &\n",
    "                    (col('model').substr(1, 1) != '7'), \"F\")\\\n",
    "                .when(\n",
    "                    ((col('manufacturer') == \"BOMBARDIER\") |\n",
    "                    (col('manufacturer') == \"CANADAIR\"))   &\n",
    "                    (col('model').substr(1, 1) != 'CL'), \"F\")\\\n",
    "                .when(\n",
    "                    (col('manufacturer') == \"MCDONNELL DOUGLAS\") &\n",
    "                    ((col('model').substr(1, 1) != 'MD') |\n",
    "                    (col('model').substr(1, 1) != 'DC')), \"F\")\\\n",
    "                .otherwise(col('model'))\n",
    "            )\n",
    "planes_df.select('qa_model').show()"
   ],
   "execution_count":69,
   "outputs":[
    {
     "name":"stdout",
     "text":[
      "+--------+\n",
      "|qa_model|\n",
      "+--------+\n",
      "|A320-214|\n",
      "|A320-214|\n",
      "|A320-214|\n",
      "|A320-214|\n",
      "|A320-214|\n",
      "|A320-214|\n",
      "|A320-214|\n",
      "|A320-214|\n",
      "|A320-214|\n",
      "| 737-824|\n",
      "|A320-214|\n",
      "|A320-214|\n",
      "|A320-214|\n",
      "|A320-214|\n",
      "|A320-214|\n",
      "|A320-214|\n",
      "| 767-332|\n",
      "| 767-332|\n",
      "| 757-224|\n",
      "| 767-332|\n",
      "+--------+\n",
      "only showing top 20 rows\n",
      "\n"
     ],
     "output_type":"stream"
    }
   ],
   "metadata":{
    "datalore":{
     "type":"CODE",
     "hide_input_from_viewers":false,
     "hide_output_from_viewers":false
    }
   }
  },
  {
   "cell_type":"markdown",
   "source":[
    "#  6. Criar uma coluna qa_engines\n",
    "\n",
    "- M : Indica que está com dado faltante.\n",
    "- I : Indica que o valor excede o intervalo [1, 4].\n",
    "- A : Indica que o valor é alfanumérico"
   ],
   "attachments":{
    
   },
   "metadata":{
    "datalore":{
     "type":"MD",
     "hide_input_from_viewers":false,
     "hide_output_from_viewers":false
    }
   }
  },
  {
   "cell_type":"code",
   "source":[
    "planes_df = planes_df.withColumn(\"qa_engines\", \n",
    "                when((col(\"engines\") == \"\") |\n",
    "                    (col(\"engines\").isNull()), \"M\")\\\n",
    "                .when((col(\"engines\") < 1) |\n",
    "                    (col(\"engines\") > 4), \"I\")\\\n",
    "                .when((col('engines').rlike('^[0-9]*$') == False), \"A\")\\\n",
    "                .otherwise(col('engines'))\n",
    "            )\n",
    "planes_df.select('qa_engines').show()"
   ],
   "execution_count":70,
   "outputs":[
    {
     "name":"stdout",
     "text":[
      "+----------+\n",
      "|qa_engines|\n",
      "+----------+\n",
      "|         2|\n",
      "|         2|\n",
      "|         2|\n",
      "|         2|\n",
      "|         2|\n",
      "|         2|\n",
      "|         2|\n",
      "|         2|\n",
      "|         2|\n",
      "|         2|\n",
      "|         2|\n",
      "|         2|\n",
      "|         2|\n",
      "|         2|\n",
      "|         2|\n",
      "|         2|\n",
      "|         2|\n",
      "|         2|\n",
      "|         2|\n",
      "|         2|\n",
      "+----------+\n",
      "only showing top 20 rows\n",
      "\n"
     ],
     "output_type":"stream"
    }
   ],
   "metadata":{
    "datalore":{
     "type":"CODE",
     "hide_input_from_viewers":false,
     "hide_output_from_viewers":false
    }
   }
  },
  {
   "cell_type":"markdown",
   "source":[
    "# 7. Criar uma coluna qa_seats\n",
    "\n",
    "- M : Indica que está com dado faltante.\n",
    "- I : Indica que o valor excede o intervalo [2, 500].\n",
    "- A : Indica que o valor é alfanumérico"
   ],
   "attachments":{
    
   },
   "metadata":{
    "datalore":{
     "type":"MD",
     "hide_input_from_viewers":false,
     "hide_output_from_viewers":false
    }
   }
  },
  {
   "cell_type":"code",
   "source":[
    "planes_df = planes_df.withColumn(\"qa_seats\", \n",
    "                when((col(\"seats\") == \"\")      |\n",
    "                    (col(\"seats\").isNull()), \"M\")\\\n",
    "                .when((col(\"seats\") < 2) |\n",
    "                    (col('seats') > 500), \"S\")\\\n",
    "                .when((col('seats').rlike('^([^0-9]*)$') == False), \"F\")\\\n",
    "                .otherwise(col('seats'))\n",
    "            )\n",
    "planes_df.show()"
   ],
   "execution_count":71,
   "outputs":[
    {
     "name":"stdout",
     "text":[
      "+-------+----+--------------------+----------------+--------+-------+-----+-----+---------+----------+-------+-------+----------------+--------+----------+--------+\n",
      "|tailnum|year|                type|    manufacturer|   model|engines|seats|speed|   engine|qa_tailnum|qa_year|qa_type| qa_manufacturer|qa_model|qa_engines|qa_seats|\n",
      "+-------+----+--------------------+----------------+--------+-------+-----+-----+---------+----------+-------+-------+----------------+--------+----------+--------+\n",
      "| N102UW|1998|Fixed wing multi ...|AIRBUS INDUSTRIE|A320-214|      2|  182| null|Turbo-fan|         S|   1998|      M|AIRBUS INDUSTRIE|A320-214|         2|       F|\n",
      "| N103US|1999|Fixed wing multi ...|AIRBUS INDUSTRIE|A320-214|      2|  182| null|Turbo-fan|         S|   1999|      M|AIRBUS INDUSTRIE|A320-214|         2|       F|\n",
      "| N104UW|1999|Fixed wing multi ...|AIRBUS INDUSTRIE|A320-214|      2|  182| null|Turbo-fan|         S|   1999|      M|AIRBUS INDUSTRIE|A320-214|         2|       F|\n",
      "| N105UW|1999|Fixed wing multi ...|AIRBUS INDUSTRIE|A320-214|      2|  182| null|Turbo-fan|         S|   1999|      M|AIRBUS INDUSTRIE|A320-214|         2|       F|\n",
      "| N107US|1999|Fixed wing multi ...|AIRBUS INDUSTRIE|A320-214|      2|  182| null|Turbo-fan|         S|   1999|      M|AIRBUS INDUSTRIE|A320-214|         2|       F|\n",
      "| N108UW|1999|Fixed wing multi ...|AIRBUS INDUSTRIE|A320-214|      2|  182| null|Turbo-fan|         S|   1999|      M|AIRBUS INDUSTRIE|A320-214|         2|       F|\n",
      "| N109UW|1999|Fixed wing multi ...|AIRBUS INDUSTRIE|A320-214|      2|  182| null|Turbo-fan|         S|   1999|      M|AIRBUS INDUSTRIE|A320-214|         2|       F|\n",
      "| N110UW|1999|Fixed wing multi ...|AIRBUS INDUSTRIE|A320-214|      2|  182| null|Turbo-fan|         S|   1999|      M|AIRBUS INDUSTRIE|A320-214|         2|       F|\n",
      "| N111US|1999|Fixed wing multi ...|AIRBUS INDUSTRIE|A320-214|      2|  182| null|Turbo-fan|         S|   1999|      M|AIRBUS INDUSTRIE|A320-214|         2|       F|\n",
      "| N11206|2000|Fixed wing multi ...|          BOEING| 737-824|      2|  149| null|Turbo-fan|         S|   2000|      M|          BOEING| 737-824|         2|       F|\n",
      "| N112US|1999|Fixed wing multi ...|AIRBUS INDUSTRIE|A320-214|      2|  182| null|Turbo-fan|         S|   1999|      M|AIRBUS INDUSTRIE|A320-214|         2|       F|\n",
      "| N113UW|1999|Fixed wing multi ...|AIRBUS INDUSTRIE|A320-214|      2|  182| null|Turbo-fan|         S|   1999|      M|AIRBUS INDUSTRIE|A320-214|         2|       F|\n",
      "| N114UW|1999|Fixed wing multi ...|AIRBUS INDUSTRIE|A320-214|      2|  182| null|Turbo-fan|         S|   1999|      M|AIRBUS INDUSTRIE|A320-214|         2|       F|\n",
      "| N117UW|2000|Fixed wing multi ...|AIRBUS INDUSTRIE|A320-214|      2|  182| null|Turbo-fan|         S|   2000|      M|AIRBUS INDUSTRIE|A320-214|         2|       F|\n",
      "| N118US|2000|Fixed wing multi ...|AIRBUS INDUSTRIE|A320-214|      2|  182| null|Turbo-fan|         S|   2000|      M|AIRBUS INDUSTRIE|A320-214|         2|       F|\n",
      "| N119US|2000|Fixed wing multi ...|AIRBUS INDUSTRIE|A320-214|      2|  182| null|Turbo-fan|         S|   2000|      M|AIRBUS INDUSTRIE|A320-214|         2|       F|\n",
      "| N1200K|1998|Fixed wing multi ...|          BOEING| 767-332|      2|  330| null|Turbo-fan|         S|   1998|      M|          BOEING| 767-332|         2|       F|\n",
      "| N1201P|1998|Fixed wing multi ...|          BOEING| 767-332|      2|  330| null|Turbo-fan|         S|   1998|      M|          BOEING| 767-332|         2|       F|\n",
      "| N12114|1995|Fixed wing multi ...|          BOEING| 757-224|      2|  178| null|Turbo-jet|         S|   1995|      M|          BOEING| 757-224|         2|       F|\n",
      "| N121DE|1987|Fixed wing multi ...|          BOEING| 767-332|      2|  330| null|Turbo-fan|         S|   1987|      M|          BOEING| 767-332|         2|       F|\n",
      "+-------+----+--------------------+----------------+--------+-------+-----+-----+---------+----------+-------+-------+----------------+--------+----------+--------+\n",
      "only showing top 20 rows\n",
      "\n"
     ],
     "output_type":"stream"
    }
   ],
   "metadata":{
    "datalore":{
     "type":"CODE",
     "hide_input_from_viewers":false,
     "hide_output_from_viewers":false
    }
   }
  },
  {
   "cell_type":"markdown",
   "source":[
    "# 8. Criar uma coluna qa_speed\n",
    "\n",
    "- M : Indica que está com dado faltante.\n",
    "- I : Indica que o valor excede o intervalo [50, 150].\n",
    "- A : Indica que o valor é alfanumérico"
   ],
   "attachments":{
    
   },
   "metadata":{
    "datalore":{
     "type":"MD",
     "hide_input_from_viewers":false,
     "hide_output_from_viewers":false
    }
   }
  },
  {
   "cell_type":"code",
   "source":[
    "planes_df = planes_df.withColumn(\"qa_speed\", \n",
    "                when((col(\"speed\") == \"\")      |\n",
    "                    (col(\"speed\").isNull()), \"M\")\\\n",
    "                .when((col(\"speed\") < 50.0) |\n",
    "                    (col('speed') > 150.0), \"S\")\\\n",
    "                .when((col('speed').rlike('^([^0-9]*)$') == False), \"F\")\\\n",
    "                .otherwise(col('speed'))\n",
    "            )\n",
    "planes_df.select('qa_speed').show()"
   ],
   "execution_count":72,
   "outputs":[
    {
     "name":"stdout",
     "text":[
      "+--------+\n",
      "|qa_speed|\n",
      "+--------+\n",
      "|       M|\n",
      "|       M|\n",
      "|       M|\n",
      "|       M|\n",
      "|       M|\n",
      "|       M|\n",
      "|       M|\n",
      "|       M|\n",
      "|       M|\n",
      "|       M|\n",
      "|       M|\n",
      "|       M|\n",
      "|       M|\n",
      "|       M|\n",
      "|       M|\n",
      "|       M|\n",
      "|       M|\n",
      "|       M|\n",
      "|       M|\n",
      "|       M|\n",
      "+--------+\n",
      "only showing top 20 rows\n",
      "\n"
     ],
     "output_type":"stream"
    }
   ],
   "metadata":{
    "datalore":{
     "type":"CODE",
     "hide_input_from_viewers":false,
     "hide_output_from_viewers":false
    }
   }
  },
  {
   "cell_type":"markdown",
   "source":[
    "# 9. Criar uma coluna qa_engine\n",
    "\n",
    "- M : Indica que está com dado faltante.\n",
    "- C : Indica que o valor não pertence a nenhuma categoria esperada:\n",
    "- Turbo-fan\n",
    "- Turbo-jet\n",
    "- Turbo-prop\n",
    "- Turbo-shaft\n",
    "- 4 Cycle"
   ],
   "attachments":{
    
   },
   "metadata":{
    "datalore":{
     "type":"MD",
     "hide_input_from_viewers":false,
     "hide_output_from_viewers":false
    }
   }
  },
  {
   "cell_type":"code",
   "source":[
    "engine_categories = [\"Turbo-fan\", \"Turbo-jet\",\"Turbo-prop\",\"Turbo-prop\",\"4 Cycle\"]\n",
    "\n",
    "planes_df = planes_df.withColumn(\"qa_engine\", \n",
    "                when((col(\"engine\") == \"\")      |\n",
    "                    (col(\"engine\").isNull()), \"M\")\\\n",
    "                .when(\n",
    "                    (col(\"engine\").contains(\"Turbo-fan%\")) |\n",
    "                    (col(\"engine\").contains(\"Turbo-jet%\")) |\n",
    "                    (col(\"engine\").contains(\"Turbo-prop%\")) |\n",
    "                    (col(\"engine\").contains(\"Turbo-shaft%\"))   |\n",
    "                    (col(\"engine\").contains(\"Cycle%\")), \"C\"\n",
    "                    )\\\n",
    "                .otherwise(col('engine'))\n",
    "            )\n",
    "planes_df.select('qa_engine').show()"
   ],
   "execution_count":73,
   "outputs":[
    {
     "name":"stdout",
     "text":[
      "+---------+\n",
      "|qa_engine|\n",
      "+---------+\n",
      "|Turbo-fan|\n",
      "|Turbo-fan|\n",
      "|Turbo-fan|\n",
      "|Turbo-fan|\n",
      "|Turbo-fan|\n",
      "|Turbo-fan|\n",
      "|Turbo-fan|\n",
      "|Turbo-fan|\n",
      "|Turbo-fan|\n",
      "|Turbo-fan|\n",
      "|Turbo-fan|\n",
      "|Turbo-fan|\n",
      "|Turbo-fan|\n",
      "|Turbo-fan|\n",
      "|Turbo-fan|\n",
      "|Turbo-fan|\n",
      "|Turbo-fan|\n",
      "|Turbo-fan|\n",
      "|Turbo-jet|\n",
      "|Turbo-fan|\n",
      "+---------+\n",
      "only showing top 20 rows\n",
      "\n"
     ],
     "output_type":"stream"
    }
   ],
   "metadata":{
    "datalore":{
     "type":"CODE",
     "hide_input_from_viewers":false,
     "hide_output_from_viewers":false
    }
   }
  },
  {
   "cell_type":"code",
   "source":[
    "# Flights Dataset\n",
    "\n",
    "#vamos configura-lo\n",
    "\n",
    "flights_file = \".\/datasets\/flights.csv\"\n",
    "\n",
    "#set our schema (that you can see on glossary)\n",
    "schema = StructType([\n",
    "    StructField(\"year\",  IntegerType()),\n",
    "    StructField(\"month\", IntegerType()),\n",
    "    StructField(\"day\",   IntegerType()),\n",
    "    StructField(\"dep_time\",  IntegerType()),\n",
    "    StructField(\"dep_delay\", IntegerType()),\n",
    "    StructField(\"arr_time\",  IntegerType()),\n",
    "    StructField(\"arr_delay\", IntegerType()),\n",
    "    StructField(\"carrier\",   StringType()),\n",
    "    StructField(\"tailnum\",   StringType()),\n",
    "    StructField(\"flight\",  IntegerType()),\n",
    "    StructField(\"origin\",  StringType()),\n",
    "    StructField(\"destiny\", StringType()),\n",
    "    StructField(\"air_time\", IntegerType()),\n",
    "    StructField(\"distance\", IntegerType()),\n",
    "    StructField(\"hour\",    IntegerType()),\n",
    "    StructField(\"minute\",  IntegerType())\n",
    "])\n",
    "\n",
    "#don't forget to create a view (important to work with spark sql)\n",
    "flights_df.createOrReplaceTempView('flights_view')\n",
    "\n",
    "flights_df.show()"
   ],
   "execution_count":74,
   "outputs":[
    {
     "name":"stdout",
     "text":[
      "+----+-----+---+--------+---------+--------+---------+-------+-------+------+------+----+--------+--------+----+------+\n",
      "|year|month|day|dep_time|dep_delay|arr_time|arr_delay|carrier|tailnum|flight|origin|dest|air_time|distance|hour|minute|\n",
      "+----+-----+---+--------+---------+--------+---------+-------+-------+------+------+----+--------+--------+----+------+\n",
      "|2014|   12|  8|     658|       -7|     935|       -5|     VX| N846VA|  1780|   SEA| LAX|     132|     954|   6|    58|\n",
      "|2014|    1| 22|    1040|        5|    1505|        5|     AS| N559AS|   851|   SEA| HNL|     360|    2677|  10|    40|\n",
      "|2014|    3|  9|    1443|       -2|    1652|        2|     VX| N847VA|   755|   SEA| SFO|     111|     679|  14|    43|\n",
      "|2014|    4|  9|    1705|       45|    1839|       34|     WN| N360SW|   344|   PDX| SJC|      83|     569|  17|     5|\n",
      "|2014|    3|  9|     754|       -1|    1015|        1|     AS| N612AS|   522|   SEA| BUR|     127|     937|   7|    54|\n",
      "|2014|    1| 15|    1037|        7|    1352|        2|     WN| N646SW|    48|   PDX| DEN|     121|     991|  10|    37|\n",
      "|2014|    7|  2|     847|       42|    1041|       51|     WN| N422WN|  1520|   PDX| OAK|      90|     543|   8|    47|\n",
      "|2014|    5| 12|    1655|       -5|    1842|      -18|     VX| N361VA|   755|   SEA| SFO|      98|     679|  16|    55|\n",
      "|2014|    4| 19|    1236|       -4|    1508|       -7|     AS| N309AS|   490|   SEA| SAN|     135|    1050|  12|    36|\n",
      "|2014|   11| 19|    1812|       -3|    2352|       -4|     AS| N564AS|    26|   SEA| ORD|     198|    1721|  18|    12|\n",
      "|2014|   11|  8|    1653|       -2|    1924|       -1|     AS| N323AS|   448|   SEA| LAX|     130|     954|  16|    53|\n",
      "|2014|    8|  3|    1120|        0|    1415|        2|     AS| N305AS|   656|   SEA| PHX|     154|    1107|  11|    20|\n",
      "|2014|   10| 30|     811|       21|    1038|       29|     AS| N433AS|   608|   SEA| LAS|     127|     867|   8|    11|\n",
      "|2014|   11| 12|    2346|       -4|     217|      -28|     AS| N765AS|   121|   SEA| ANC|     183|    1448|  23|    46|\n",
      "|2014|   10| 31|    1314|       89|    1544|      111|     AS| N713AS|   306|   SEA| SFO|     129|     679|  13|    14|\n",
      "|2014|    1| 29|    2009|        3|    2159|        9|     UA| N27205|  1458|   PDX| SFO|      90|     550|  20|     9|\n",
      "|2014|   12| 17|    2015|       50|    2150|       41|     AS| N626AS|   368|   SEA| SMF|      76|     605|  20|    15|\n",
      "|2014|    8| 11|    1017|       -3|    1613|       -7|     WN| N8634A|   827|   SEA| MDW|     216|    1733|  10|    17|\n",
      "|2014|    1| 13|    2156|       -9|     607|      -15|     AS| N597AS|    24|   SEA| BOS|     290|    2496|  21|    56|\n",
      "|2014|    6|  5|    1733|      -12|    1945|      -10|     OO| N215AG|  3488|   PDX| BUR|     111|     817|  17|    33|\n",
      "+----+-----+---+--------+---------+--------+---------+-------+-------+------+------+----+--------+--------+----+------+\n",
      "only showing top 20 rows\n",
      "\n"
     ],
     "output_type":"stream"
    }
   ],
   "metadata":{
    "datalore":{
     "type":"CODE",
     "hide_input_from_viewers":false,
     "hide_output_from_viewers":false
    }
   }
  },
  {
   "cell_type":"markdown",
   "source":[
    "## 1. Criar uma coluna qa_year_month_day\n",
    "e aponte inconsistências da coluna *year*, *month*, *day* de acordo com as regras abaixo\n",
    "\n",
    "\n",
    "- ***MY*** : Indica que está com dado faltante no ano.\n",
    "- ***MM*** : Indica que está com dado faltante no mes.\n",
    "- ***MD*** : Indica que está com dado faltante no dia.\n",
    "- ***IY*** : Indica que o valor excede o intervalo [1950, +∞) no ano.\n",
    "- ***IM*** : Indica que o valor excede o intervalo [1, 12] no mês.\n",
    "- ***ID*** : Indica que o valor excede o intervalo [1,31] no dia. No mês de Fevereiro o intervalo é [1, 29]"
   ],
   "attachments":{
    
   },
   "metadata":{
    "datalore":{
     "type":"MD",
     "hide_input_from_viewers":false,
     "hide_output_from_viewers":false
    }
   }
  },
  {
   "cell_type":"code",
   "source":[
    "flights_df = flights_df.withColumn(\"qa_year_month_day\",\n",
    "                when((col('year').isNull()) | \n",
    "                    ((col('year') == '')), 'MY')\\\n",
    "                .when( (col('month').isNull()) | \n",
    "                    (col('month') == ''), 'MM')\\\n",
    "                .when( (col('day').isNull()) | \n",
    "                    (col('day') == ''), 'MD')\\\n",
    "                .when((col('year') < 1950 ), \"IY\")\\\n",
    "                .when((col('month') < 1 ) |\n",
    "                    (col('month') > 12 ), \"IM\")\\\n",
    "                .when((\n",
    "                    (col('month') == 2) &\n",
    "                    ((col('day') < 1 ) |\n",
    "                    (col('day') > 29 ))\n",
    "                    ) |\n",
    "                    ((col('month') != 2) &\n",
    "                    ((col('day') < 1 ) |\n",
    "                    (col('day') > 31 ))\n",
    "                    ), \"ID\")\\\n",
    "            )\n",
    "flights_df.select('qa_year_month_day').show()"
   ],
   "execution_count":75,
   "outputs":[
    {
     "name":"stdout",
     "text":[
      "+-----------------+\n",
      "|qa_year_month_day|\n",
      "+-----------------+\n",
      "|             null|\n",
      "|             null|\n",
      "|             null|\n",
      "|             null|\n",
      "|             null|\n",
      "|             null|\n",
      "|             null|\n",
      "|             null|\n",
      "|             null|\n",
      "|             null|\n",
      "|             null|\n",
      "|             null|\n",
      "|             null|\n",
      "|             null|\n",
      "|             null|\n",
      "|             null|\n",
      "|             null|\n",
      "|             null|\n",
      "|             null|\n",
      "|             null|\n",
      "+-----------------+\n",
      "only showing top 20 rows\n",
      "\n"
     ],
     "output_type":"stream"
    }
   ],
   "metadata":{
    "datalore":{
     "type":"CODE",
     "hide_input_from_viewers":false,
     "hide_output_from_viewers":false
    }
   }
  },
  {
   "cell_type":"markdown",
   "source":[
    "## 2. Criar uma coluna qa_hour_minute\n",
    "e aponte inconsistências da coluna *hour* e *minute* de acordo com as regras abaixo\n",
    "\n",
    "\n",
    "- ***MH*** : Indica que está com dado faltante na hora.\n",
    "- ***MM*** : Indica que está com dado faltante no minuto.\n",
    "- ***IH*** : Indica que o valor excede o intervalo [0, 24] na hora.\n",
    "- ***IM*** : Indica que o valor excede o intervalo [0,59] no minuto."
   ],
   "attachments":{
    
   },
   "metadata":{
    "datalore":{
     "type":"MD",
     "hide_input_from_viewers":false,
     "hide_output_from_viewers":false
    }
   }
  },
  {
   "cell_type":"code",
   "source":[
    "flights_df = flights_df.withColumn(\"qa_hour_minute\",\n",
    "                when((col('hour').isNull()) | \n",
    "                    ((col('hour') == '')), 'MH')\\\n",
    "                .when( (col('minute').isNull()) | \n",
    "                    (col('minute') == ''), 'MM')\\\n",
    "                .when( (length('hour') == 1) & ( (col('hour').substr(1,1) < 0) | (col('hour').substr(1,1) > 24) ) |\n",
    "                    (length('hour') == 2) & ((col('hour').substr(1,2) < 0) | (col('hour').substr(1,2) > 24) ), 'IH')\\\n",
    "                .when( ((length('minute') == 1) & ((col('hour').substr(2,3) < 0) | (col('hour').substr(2,3) > 9))) |\n",
    "                    ((length('minute') == 2) & ((col('hour').substr(3,4) < 0) | (col('hour').substr(3,4) > 59) )), 'IM')\\\n",
    "            )\n",
    "flights_df.select('qa_hour_minute').show()"
   ],
   "execution_count":76,
   "outputs":[
    {
     "name":"stdout",
     "text":[
      "+--------------+\n",
      "|qa_hour_minute|\n",
      "+--------------+\n",
      "|          null|\n",
      "|          null|\n",
      "|          null|\n",
      "|          null|\n",
      "|          null|\n",
      "|          null|\n",
      "|          null|\n",
      "|          null|\n",
      "|          null|\n",
      "|          null|\n",
      "|          null|\n",
      "|          null|\n",
      "|          null|\n",
      "|          null|\n",
      "|          null|\n",
      "|          null|\n",
      "|          null|\n",
      "|          null|\n",
      "|          null|\n",
      "|          null|\n",
      "+--------------+\n",
      "only showing top 20 rows\n",
      "\n"
     ],
     "output_type":"stream"
    }
   ],
   "metadata":{
    "datalore":{
     "type":"CODE",
     "hide_input_from_viewers":false,
     "hide_output_from_viewers":false
    }
   }
  },
  {
   "cell_type":"markdown",
   "source":[
    "# 3. Criar uma coluna qa_dep_arr_time\n",
    "para apontar inconsistências da coluna deptime e arr_time de acordo com as regras abaixo\n",
    "\n",
    "- MD : Indica que está com dado faltante no dep_time.\n",
    "- MA : Indica que está com dado faltante no arr_time.\n",
    "- FD : Indica que não respeita o formato esperado (HHMM ou HMM) no dep_time.\n",
    "- FA : Indica que não respeita o formato esperado (HHMM ou HMM) no arr_time."
   ],
   "attachments":{
    
   },
   "metadata":{
    "datalore":{
     "type":"MD",
     "hide_input_from_viewers":false,
     "hide_output_from_viewers":false
    }
   }
  },
  {
   "cell_type":"code",
   "source":[
    "flights_df = flights_df.withColumn(\"qa_dep_arr_time\",\n",
    "                when((col(\"dep_time\") == \"\") |\n",
    "                    (col(\"dep_time\").isNull()), \"MD\")\\\n",
    "                .when((col(\"arr_time\") == \"\") |\n",
    "                    (col(\"arr_time\").isNull()), \"MA\")\n",
    "                .when( (length('dep_time') == 3) & ( (col('dep_time').substr(1,1) < 0) | (col('dep_time').substr(1,1) > 24) ) |\n",
    "                    (length('dep_time') == 4) & ((col('dep_time').substr(1,2) < 0) | (col('dep_time').substr(1,2) > 24) ), 'FD')\\\n",
    "                .when( ((length('arr_time') == 3) & ((col('arr_time').substr(2,3) < 0) | (col('arr_time').substr(2,3) > 59))) |\n",
    "                    ((length('arr_time') == 4) & ((col('arr_time').substr(3,4) < 0) | (col('arr_time').substr(3,4) > 59) )), 'FA')\\\n",
    "            )\n",
    "flights_df.select('qa_dep_arr_time').show()"
   ],
   "execution_count":77,
   "outputs":[
    {
     "name":"stdout",
     "text":[
      "+---------------+\n",
      "|qa_dep_arr_time|\n",
      "+---------------+\n",
      "|           null|\n",
      "|           null|\n",
      "|           null|\n",
      "|           null|\n",
      "|           null|\n",
      "|           null|\n",
      "|           null|\n",
      "|           null|\n",
      "|           null|\n",
      "|           null|\n",
      "|           null|\n",
      "|           null|\n",
      "|           null|\n",
      "|           null|\n",
      "|           null|\n",
      "|           null|\n",
      "|           null|\n",
      "|           null|\n",
      "|           null|\n",
      "|           null|\n",
      "+---------------+\n",
      "only showing top 20 rows\n",
      "\n"
     ],
     "output_type":"stream"
    }
   ],
   "metadata":{
    "datalore":{
     "type":"CODE",
     "hide_input_from_viewers":false,
     "hide_output_from_viewers":false
    }
   }
  },
  {
   "cell_type":"markdown",
   "source":[
    "# 4. Criar uma coluna qa_dep_arr_delay\n",
    "para apontar inconsistências da coluna dep_delay e arr_delay de acordo com as regras abaixo\n",
    "\n",
    "- MD : Indica que está com dado faltante no dep_delay.\n",
    "- MA : Indica que está com dado faltante no arr_delay."
   ],
   "attachments":{
    
   },
   "metadata":{
    "datalore":{
     "type":"MD",
     "hide_input_from_viewers":false,
     "hide_output_from_viewers":false
    }
   }
  },
  {
   "cell_type":"code",
   "source":[
    "flights_df = flights_df.withColumn(\"qa_dep_arr_delay\", \n",
    "                when((col(\"dep_delay\") == \"\") |\n",
    "                    (col(\"dep_delay\").isNull()), \"MD\")\\\n",
    "                .when((col(\"arr_delay\") == \"\") |\n",
    "                    (col(\"arr_delay\").isNull()), \"MA\")\n",
    "            )\n",
    "flights_df.select('qa_dep_arr_delay').show()"
   ],
   "execution_count":78,
   "outputs":[
    {
     "name":"stdout",
     "text":[
      "+----------------+\n",
      "|qa_dep_arr_delay|\n",
      "+----------------+\n",
      "|            null|\n",
      "|            null|\n",
      "|            null|\n",
      "|            null|\n",
      "|            null|\n",
      "|            null|\n",
      "|            null|\n",
      "|            null|\n",
      "|            null|\n",
      "|            null|\n",
      "|            null|\n",
      "|            null|\n",
      "|            null|\n",
      "|            null|\n",
      "|            null|\n",
      "|            null|\n",
      "|            null|\n",
      "|            null|\n",
      "|            null|\n",
      "|            null|\n",
      "+----------------+\n",
      "only showing top 20 rows\n",
      "\n"
     ],
     "output_type":"stream"
    }
   ],
   "metadata":{
    "datalore":{
     "type":"CODE",
     "hide_input_from_viewers":false,
     "hide_output_from_viewers":false
    }
   }
  },
  {
   "cell_type":"markdown",
   "source":[
    "## 5. Criar uma coluna qa_carrier \n",
    "e aponte inconsistências da coluna *carrier* de acordo com as regras abaixo\n",
    "\n",
    "- ***M*** : Indica que está com dado faltante.\n",
    "- ***F*** : Indica que não respeita o formato esperado (2 caracteres alfanuméricos)."
   ],
   "attachments":{
    
   },
   "metadata":{
    "datalore":{
     "type":"MD",
     "hide_input_from_viewers":false,
     "hide_output_from_viewers":false
    }
   }
  },
  {
   "cell_type":"code",
   "source":[
    "flights_df = flights_df.withColumn(\"qa_carrier\", \n",
    "                when((col(\"carrier\") == \"\") |\n",
    "                    (col(\"carrier\").isNull()), \"M\")\\\n",
    "                .when((length(\"carrier\") != 2), \"F\")\\\n",
    "                .otherwise(col('carrier'))\n",
    "            )\n",
    "flights_df.select('qa_carrier').show()"
   ],
   "execution_count":79,
   "outputs":[
    {
     "name":"stdout",
     "text":[
      "+----------+\n",
      "|qa_carrier|\n",
      "+----------+\n",
      "|        VX|\n",
      "|        AS|\n",
      "|        VX|\n",
      "|        WN|\n",
      "|        AS|\n",
      "|        WN|\n",
      "|        WN|\n",
      "|        VX|\n",
      "|        AS|\n",
      "|        AS|\n",
      "|        AS|\n",
      "|        AS|\n",
      "|        AS|\n",
      "|        AS|\n",
      "|        AS|\n",
      "|        UA|\n",
      "|        AS|\n",
      "|        WN|\n",
      "|        AS|\n",
      "|        OO|\n",
      "+----------+\n",
      "only showing top 20 rows\n",
      "\n"
     ],
     "output_type":"stream"
    }
   ],
   "metadata":{
    "datalore":{
     "type":"CODE",
     "hide_input_from_viewers":false,
     "hide_output_from_viewers":false
    }
   }
  },
  {
   "cell_type":"markdown",
   "source":[
    "## 6. Criar uma coluna qa_tailnum \n",
    "e aponte inconsistências da coluna *tailnum* de acordo com as regras abaixo\n",
    "\n",
    "- ***M*** : Indica que está com dado faltante.\n",
    "- ***S*** : Indica que não tem o número de caracteres esperado.\n",
    "- ***F*** : Indica que não respeita o formato esperado (ex N1234Z ou N123AZ).\n",
    "- ***FN*** : Indica que não inicia com a letra 'N'.\n",
    "- ***FE*** : Indica que contém caracteres inválidos (\"I\", \"O\", ou 0 como primeiro digito)."
   ],
   "attachments":{
    
   },
   "metadata":{
    "datalore":{
     "type":"MD",
     "hide_input_from_viewers":false,
     "hide_output_from_viewers":false
    }
   }
  },
  {
   "cell_type":"code",
   "source":[
    "planes_df = planes_df.withColumn(\"qa_tailnum\", \n",
    "                when((col(\"tailnum\") == \"\")      |\n",
    "                    (col(\"tailnum\").isNull())   |\n",
    "                    (col('tailnum').rlike('\\t') |\n",
    "                    (col('tailnum').rlike(' +'))), \"M\")\\\n",
    "                .when((length(\"tailnum\") != 5), \"S\")\\\n",
    "                .when(\n",
    "                    (col('tailnum').substr(1, 1) != 'N')   &\n",
    "                    (col('tailnum').substr(-1, -1) != 'Z') & \n",
    "                    (col('tailnum').substr(2,4).rlike('^([^0-9]*)$')), \"F\")\\\n",
    "                .when((col(\"tailnum\").substr(1,1) == \"I\")  |\n",
    "                    (col(\"tailnum\").substr(1,1) == \"O\") |\n",
    "                    (col(\"tailnum\").substr(1,1) == \"0\"), \"FE\")\\\n",
    "                .when((col(\"tailnum\").substr(1,1) != \"N\"),  \"FN\")\\\n",
    "                .otherwise(col('tailnum'))\n",
    "            )\n",
    "planes_df.show()"
   ],
   "execution_count":80,
   "outputs":[
    {
     "name":"stdout",
     "text":[
      "+-------+----+--------------------+----------------+--------+-------+-----+-----+---------+----------+-------+-------+----------------+--------+----------+--------+--------+---------+\n",
      "|tailnum|year|                type|    manufacturer|   model|engines|seats|speed|   engine|qa_tailnum|qa_year|qa_type| qa_manufacturer|qa_model|qa_engines|qa_seats|qa_speed|qa_engine|\n",
      "+-------+----+--------------------+----------------+--------+-------+-----+-----+---------+----------+-------+-------+----------------+--------+----------+--------+--------+---------+\n",
      "| N102UW|1998|Fixed wing multi ...|AIRBUS INDUSTRIE|A320-214|      2|  182| null|Turbo-fan|         S|   1998|      M|AIRBUS INDUSTRIE|A320-214|         2|       F|       M|Turbo-fan|\n",
      "| N103US|1999|Fixed wing multi ...|AIRBUS INDUSTRIE|A320-214|      2|  182| null|Turbo-fan|         S|   1999|      M|AIRBUS INDUSTRIE|A320-214|         2|       F|       M|Turbo-fan|\n",
      "| N104UW|1999|Fixed wing multi ...|AIRBUS INDUSTRIE|A320-214|      2|  182| null|Turbo-fan|         S|   1999|      M|AIRBUS INDUSTRIE|A320-214|         2|       F|       M|Turbo-fan|\n",
      "| N105UW|1999|Fixed wing multi ...|AIRBUS INDUSTRIE|A320-214|      2|  182| null|Turbo-fan|         S|   1999|      M|AIRBUS INDUSTRIE|A320-214|         2|       F|       M|Turbo-fan|\n",
      "| N107US|1999|Fixed wing multi ...|AIRBUS INDUSTRIE|A320-214|      2|  182| null|Turbo-fan|         S|   1999|      M|AIRBUS INDUSTRIE|A320-214|         2|       F|       M|Turbo-fan|\n",
      "| N108UW|1999|Fixed wing multi ...|AIRBUS INDUSTRIE|A320-214|      2|  182| null|Turbo-fan|         S|   1999|      M|AIRBUS INDUSTRIE|A320-214|         2|       F|       M|Turbo-fan|\n",
      "| N109UW|1999|Fixed wing multi ...|AIRBUS INDUSTRIE|A320-214|      2|  182| null|Turbo-fan|         S|   1999|      M|AIRBUS INDUSTRIE|A320-214|         2|       F|       M|Turbo-fan|\n",
      "| N110UW|1999|Fixed wing multi ...|AIRBUS INDUSTRIE|A320-214|      2|  182| null|Turbo-fan|         S|   1999|      M|AIRBUS INDUSTRIE|A320-214|         2|       F|       M|Turbo-fan|\n",
      "| N111US|1999|Fixed wing multi ...|AIRBUS INDUSTRIE|A320-214|      2|  182| null|Turbo-fan|         S|   1999|      M|AIRBUS INDUSTRIE|A320-214|         2|       F|       M|Turbo-fan|\n",
      "| N11206|2000|Fixed wing multi ...|          BOEING| 737-824|      2|  149| null|Turbo-fan|         S|   2000|      M|          BOEING| 737-824|         2|       F|       M|Turbo-fan|\n",
      "| N112US|1999|Fixed wing multi ...|AIRBUS INDUSTRIE|A320-214|      2|  182| null|Turbo-fan|         S|   1999|      M|AIRBUS INDUSTRIE|A320-214|         2|       F|       M|Turbo-fan|\n",
      "| N113UW|1999|Fixed wing multi ...|AIRBUS INDUSTRIE|A320-214|      2|  182| null|Turbo-fan|         S|   1999|      M|AIRBUS INDUSTRIE|A320-214|         2|       F|       M|Turbo-fan|\n",
      "| N114UW|1999|Fixed wing multi ...|AIRBUS INDUSTRIE|A320-214|      2|  182| null|Turbo-fan|         S|   1999|      M|AIRBUS INDUSTRIE|A320-214|         2|       F|       M|Turbo-fan|\n",
      "| N117UW|2000|Fixed wing multi ...|AIRBUS INDUSTRIE|A320-214|      2|  182| null|Turbo-fan|         S|   2000|      M|AIRBUS INDUSTRIE|A320-214|         2|       F|       M|Turbo-fan|\n",
      "| N118US|2000|Fixed wing multi ...|AIRBUS INDUSTRIE|A320-214|      2|  182| null|Turbo-fan|         S|   2000|      M|AIRBUS INDUSTRIE|A320-214|         2|       F|       M|Turbo-fan|\n",
      "| N119US|2000|Fixed wing multi ...|AIRBUS INDUSTRIE|A320-214|      2|  182| null|Turbo-fan|         S|   2000|      M|AIRBUS INDUSTRIE|A320-214|         2|       F|       M|Turbo-fan|\n",
      "| N1200K|1998|Fixed wing multi ...|          BOEING| 767-332|      2|  330| null|Turbo-fan|         S|   1998|      M|          BOEING| 767-332|         2|       F|       M|Turbo-fan|\n",
      "| N1201P|1998|Fixed wing multi ...|          BOEING| 767-332|      2|  330| null|Turbo-fan|         S|   1998|      M|          BOEING| 767-332|         2|       F|       M|Turbo-fan|\n",
      "| N12114|1995|Fixed wing multi ...|          BOEING| 757-224|      2|  178| null|Turbo-jet|         S|   1995|      M|          BOEING| 757-224|         2|       F|       M|Turbo-jet|\n",
      "| N121DE|1987|Fixed wing multi ...|          BOEING| 767-332|      2|  330| null|Turbo-fan|         S|   1987|      M|          BOEING| 767-332|         2|       F|       M|Turbo-fan|\n",
      "+-------+----+--------------------+----------------+--------+-------+-----+-----+---------+----------+-------+-------+----------------+--------+----------+--------+--------+---------+\n",
      "only showing top 20 rows\n",
      "\n"
     ],
     "output_type":"stream"
    }
   ],
   "metadata":{
    "datalore":{
     "type":"CODE",
     "hide_input_from_viewers":false,
     "hide_output_from_viewers":false
    }
   }
  },
  {
   "cell_type":"markdown",
   "source":[
    "## 7. Criar uma coluna qa_flight \n",
    "e aponte inconsistências da coluna *flight* de acordo com as regras abaixo\n",
    "\n",
    "- ***M*** : Indica que está com dado faltante.\n",
    "- ***F*** : Indica que não respeita o formato esperado (4 caracteres numéricos)."
   ],
   "attachments":{
    
   },
   "metadata":{
    "datalore":{
     "type":"MD",
     "hide_input_from_viewers":false,
     "hide_output_from_viewers":false
    }
   }
  },
  {
   "cell_type":"code",
   "source":[
    "flights_df =flights_df.withColumn(\"qa_flight\", \n",
    "                when((col(\"flight\") == \"\") |\n",
    "                    (col(\"flight\").isNull()), \"M\")\\\n",
    "                .when((col('flight').rlike('[0-9]{4}') == False), \"F\")\\\n",
    "                .otherwise(col('flight'))\n",
    "            )\n",
    "flights_df.select('qa_flight').show()"
   ],
   "execution_count":81,
   "outputs":[
    {
     "name":"stdout",
     "text":[
      "+---------+\n",
      "|qa_flight|\n",
      "+---------+\n",
      "|     1780|\n",
      "|        F|\n",
      "|        F|\n",
      "|        F|\n",
      "|        F|\n",
      "|        F|\n",
      "|     1520|\n",
      "|        F|\n",
      "|        F|\n",
      "|        F|\n",
      "|        F|\n",
      "|        F|\n",
      "|        F|\n",
      "|        F|\n",
      "|        F|\n",
      "|     1458|\n",
      "|        F|\n",
      "|        F|\n",
      "|        F|\n",
      "|     3488|\n",
      "+---------+\n",
      "only showing top 20 rows\n",
      "\n"
     ],
     "output_type":"stream"
    }
   ],
   "metadata":{
    "datalore":{
     "type":"CODE",
     "hide_input_from_viewers":false,
     "hide_output_from_viewers":false
    }
   }
  },
  {
   "cell_type":"markdown",
   "source":[
    "## 8. Criar uma coluna qa_origin_dest\n",
    "para apontar inconsistências das colunas *origin* e *dest* de acordo com as regras abaixo\n",
    "\n",
    "- ***MO*** : Indica que está com dado faltante no *origin*.\n",
    "- ***MD*** : Indica que está com dado faltante no *dest*.\n",
    "- ***FO*** : Indica que não respeita o formato esperado (3 caracteres alfanuméricos) no *origin*.\n",
    "- ***FD*** : Indica que não respeita o formato esperado (3 caracteres alfanuméricos) no *dest*."
   ],
   "attachments":{
    
   },
   "metadata":{
    "datalore":{
     "type":"MD",
     "hide_input_from_viewers":false,
     "hide_output_from_viewers":false
    }
   }
  },
  {
   "cell_type":"code",
   "source":[
    "flights_df = flights_df.withColumn(\"qa_origin_dest\", \n",
    "                when((col(\"origin\") == \"\") |\n",
    "                    (col(\"origin\").isNull()), \"MO\")\\\n",
    "                .when((col(\"dest\") == \"\") |\n",
    "                    (col(\"dest\").isNull()), \"MD\")\\\n",
    "                .when(((col('origin').rlike('([A-Z]|[a-z]|[0-9]{3})') == False) | (length('origin') != 3)), \"FO\")\\\n",
    "                .when(((col('dest').rlike('([A-Z]|[a-z]|[0-9]{3})') == False) | (length('dest') != 3)), \"FD\")\\\n",
    "            )\n",
    "flights_df.select('qa_origin_dest').show()"
   ],
   "execution_count":82,
   "outputs":[
    {
     "name":"stdout",
     "text":[
      "+--------------+\n",
      "|qa_origin_dest|\n",
      "+--------------+\n",
      "|          null|\n",
      "|          null|\n",
      "|          null|\n",
      "|          null|\n",
      "|          null|\n",
      "|          null|\n",
      "|          null|\n",
      "|          null|\n",
      "|          null|\n",
      "|          null|\n",
      "|          null|\n",
      "|          null|\n",
      "|          null|\n",
      "|          null|\n",
      "|          null|\n",
      "|          null|\n",
      "|          null|\n",
      "|          null|\n",
      "|          null|\n",
      "|          null|\n",
      "+--------------+\n",
      "only showing top 20 rows\n",
      "\n"
     ],
     "output_type":"stream"
    }
   ],
   "metadata":{
    "datalore":{
     "type":"CODE",
     "hide_input_from_viewers":false,
     "hide_output_from_viewers":false
    }
   }
  },
  {
   "cell_type":"markdown",
   "source":[
    "## 9. Criar uma coluna qa_air_time \n",
    "e aponte inconsistências da coluna *air_time* de acordo com as regras abaixo\n",
    "\n",
    "- ***M*** : Indica que está com dado faltante.\n",
    "- ***I*** : Indica que o valor excede o intervalo [20, 500]."
   ],
   "attachments":{
    
   },
   "metadata":{
    "datalore":{
     "type":"MD",
     "hide_input_from_viewers":false,
     "hide_output_from_viewers":false
    }
   }
  },
  {
   "cell_type":"code",
   "source":[
    "flights_df = flights_df.withColumn(\"qa_air_time\", \n",
    "                when((col(\"air_time\") == \"\") |\n",
    "                    (col(\"air_time\").isNull()), \"M\")\\\n",
    "                .when((col(\"air_time\") < 20) |\n",
    "                    (col(\"air_time\") > 500), \"I\")\\\n",
    "                .otherwise(col('air_time'))\n",
    "            )\n",
    "flights_df.select('qa_air_time').show()"
   ],
   "execution_count":83,
   "outputs":[
    {
     "name":"stdout",
     "text":[
      "+-----------+\n",
      "|qa_air_time|\n",
      "+-----------+\n",
      "|        132|\n",
      "|        360|\n",
      "|        111|\n",
      "|         83|\n",
      "|        127|\n",
      "|        121|\n",
      "|         90|\n",
      "|         98|\n",
      "|        135|\n",
      "|        198|\n",
      "|        130|\n",
      "|        154|\n",
      "|        127|\n",
      "|        183|\n",
      "|        129|\n",
      "|         90|\n",
      "|         76|\n",
      "|        216|\n",
      "|        290|\n",
      "|        111|\n",
      "+-----------+\n",
      "only showing top 20 rows\n",
      "\n"
     ],
     "output_type":"stream"
    }
   ],
   "metadata":{
    "datalore":{
     "type":"CODE",
     "hide_input_from_viewers":false,
     "hide_output_from_viewers":false
    }
   }
  },
  {
   "cell_type":"markdown",
   "source":[
    "## 10. Criar uma coluna qa_distance \n",
    "e aponte inconsistências da coluna *distance* de acordo com as regras abaixo\n",
    "\n",
    "- ***M*** : Indica que está com dado faltante.\n",
    "- ***I*** : Indica que o valor excede o intervalo [50, 3000]."
   ],
   "attachments":{
    
   },
   "metadata":{
    "datalore":{
     "type":"MD",
     "hide_input_from_viewers":false,
     "hide_output_from_viewers":false
    }
   }
  },
  {
   "cell_type":"code",
   "source":[
    "flights_df =flights_df.withColumn(\"qa_distance\", \n",
    "                when((col(\"distance\") == \"\") |\n",
    "                    (col(\"distance\").isNull()), \"M\")\\\n",
    "                .when((col(\"distance\") < 50) |\n",
    "                    (col(\"distance\") > 3000), \"I\")\\\n",
    "                .otherwise(col('distance'))\n",
    "            )\n",
    "flights_df.select('qa_distance').show()"
   ],
   "execution_count":84,
   "outputs":[
    {
     "name":"stdout",
     "text":[
      "+-----------+\n",
      "|qa_distance|\n",
      "+-----------+\n",
      "|        954|\n",
      "|       2677|\n",
      "|        679|\n",
      "|        569|\n",
      "|        937|\n",
      "|        991|\n",
      "|        543|\n",
      "|        679|\n",
      "|       1050|\n",
      "|       1721|\n",
      "|        954|\n",
      "|       1107|\n",
      "|        867|\n",
      "|       1448|\n",
      "|        679|\n",
      "|        550|\n",
      "|        605|\n",
      "|       1733|\n",
      "|       2496|\n",
      "|        817|\n",
      "+-----------+\n",
      "only showing top 20 rows\n",
      "\n"
     ],
     "output_type":"stream"
    }
   ],
   "metadata":{
    "datalore":{
     "type":"CODE",
     "hide_input_from_viewers":false,
     "hide_output_from_viewers":false
    }
   }
  },
  {
   "cell_type":"markdown",
   "source":[
    "## 11. Criar uma coluna qa_distance_airtime \n",
    "e aponte inconsistências das colunas *distance* e *air_time* de acordo com as regras abaixo\n",
    "\n",
    "- ***M*** : Indica que está com *distance* ou *air_time* faltante.\n",
    "- ***TL*** : Indica que a viagem é longa de acordo com a condição: *air_time >= distance x 0.1 + 30*\n",
    "- ***TS*** : Indica que viagem é curta de acordo com a condição: *air_time <= distance x 0.1 + 10*\n",
    "- ***TR*** : Indica que a viagem é normal caso as duas anteriores não sejam verdade."
   ],
   "attachments":{
    
   },
   "metadata":{
    "datalore":{
     "type":"MD",
     "hide_input_from_viewers":false,
     "hide_output_from_viewers":false
    }
   }
  },
  {
   "cell_type":"code",
   "source":[
    "flights_df =flights_df.withColumn(\"qa_airtime\", \n",
    "                when((col(\"air_time\") == \"\") |\n",
    "                    (col(\"air_time\").isNull()), \"M\")\\\n",
    "                .when((col(\"air_time\") >= (col('distance') * .1 ) + 30), \"TL\")\\\n",
    "                .when((col(\"air_time\") <= (col('distance') * .1 ) + 10), \"TS\")\\\n",
    "                .when( ((col(\"air_time\") >= (col('distance') * .1 ) + 30) &\n",
    "                        ((col(\"air_time\") <= (col('distance') * .1 ) + 10))) == False, \"TR\")\\\n",
    "            )\n",
    "flights_df.select('qa_airtime').show()"
   ],
   "execution_count":85,
   "outputs":[
    {
     "name":"stdout",
     "text":[
      "+----------+\n",
      "|qa_airtime|\n",
      "+----------+\n",
      "|        TL|\n",
      "|        TL|\n",
      "|        TL|\n",
      "|        TR|\n",
      "|        TL|\n",
      "|        TR|\n",
      "|        TL|\n",
      "|        TL|\n",
      "|        TL|\n",
      "|        TR|\n",
      "|        TL|\n",
      "|        TL|\n",
      "|        TL|\n",
      "|        TL|\n",
      "|        TL|\n",
      "|        TL|\n",
      "|        TR|\n",
      "|        TL|\n",
      "|        TL|\n",
      "|        TR|\n",
      "+----------+\n",
      "only showing top 20 rows\n",
      "\n"
     ],
     "output_type":"stream"
    }
   ],
   "metadata":{
    "datalore":{
     "type":"CODE",
     "hide_input_from_viewers":false,
     "hide_output_from_viewers":false
    }
   }
  },
  {
   "cell_type":"code",
   "source":[
    "#Após feitas as transformações, vamos salvar nosso arquivo, e teremos o parquet\n",
    "\n",
    "planes_df.write.parquet(\"output\/airplanes.parquet\")\n",
    "airport_df.write.parquet(\"output\/airports.parquet\")\n",
    "flights_df.write.parquet(\"output\/flights.parquet\")"
   ],
   "execution_count":86,
   "outputs":[
    {
     "ename":"AnalysisException",
     "evalue":"AnalysisException: path file:\/data\/notebook_files\/output\/airplanes.parquet already exists.",
     "traceback":[
      "\u001b[0;31m---------------------------------------------------------------------------",
      "Traceback (most recent call last)",
      "    at line 3 in <module>",
      "    at line 885 in parquet(self, path, mode, partitionBy, compression)",
      "    at line 1309 in __call__(self, *args)",
      "    at line 117 in deco(*a, **kw)",
      "AnalysisException: path file:\/data\/notebook_files\/output\/airplanes.parquet already exists."
     ],
     "output_type":"error"
    }
   ],
   "metadata":{
    "datalore":{
     "type":"CODE",
     "hide_input_from_viewers":false,
     "hide_output_from_viewers":false
    }
   }
  }
 ],
 "metadata":{
  "datalore":{
   "version":1,
   "computation_mode":"JUPYTER",
   "packages":[
    
   ]
  }
 },
 "nbformat":4,
 "nbformat_minor":4
}